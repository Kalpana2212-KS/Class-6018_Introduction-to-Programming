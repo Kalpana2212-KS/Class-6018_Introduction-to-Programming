{
 "cells": [
  {
   "cell_type": "code",
   "execution_count": 1,
   "id": "2f09bea3-95f7-4594-9342-a66733d79f72",
   "metadata": {},
   "outputs": [
    {
     "name": "stdout",
     "output_type": "stream",
     "text": [
      "1\n"
     ]
    }
   ],
   "source": [
    "# Question 2 (booleans 2)\n",
    "logical_tracker = True\n",
    "logical_tracker = logical_tracker & logical_tracker\n",
    "logical_tracker = logical_tracker | (logical_tracker - logical_tracker)\n",
    "print (logical_tracker)\n",
    "\n",
    "# Step 1 and 2: The logical tracker is True, which equals=1. True & True is True (which again equals 1). \n",
    "# Step 3: Since, logical tracker =1. In parenthesis (1-1) equals to zero\n",
    "# Step 3: logical tracker = 1 OR (1-1), equals to 1. \n",
    "# The result of True or zero is True (=1)"
   ]
  },
  {
   "cell_type": "code",
   "execution_count": null,
   "id": "1914aa1a-2ab4-4116-a38f-a63a53786e63",
   "metadata": {},
   "outputs": [],
   "source": []
  }
 ],
 "metadata": {
  "kernelspec": {
   "display_name": "Python 3 (ipykernel)",
   "language": "python",
   "name": "python3"
  },
  "language_info": {
   "codemirror_mode": {
    "name": "ipython",
    "version": 3
   },
   "file_extension": ".py",
   "mimetype": "text/x-python",
   "name": "python",
   "nbconvert_exporter": "python",
   "pygments_lexer": "ipython3",
   "version": "3.11.1"
  }
 },
 "nbformat": 4,
 "nbformat_minor": 5
}
