{
 "cells": [
  {
   "cell_type": "markdown",
   "id": "87be904e-c2ca-4ac4-bd56-6cb13fb24f14",
   "metadata": {},
   "source": [
    "# Biopython"
   ]
  },
  {
   "cell_type": "code",
   "execution_count": 1,
   "id": "755b0398-0328-4634-bdc2-ea2de393c058",
   "metadata": {},
   "outputs": [],
   "source": [
    "# BioPython is a library for computational biology and bioinformatics, designed to work with biological data in Python.\n",
    "# It provides tools for DNA and protein sequence analysis, alignment, structural bioinformatics, etc."
   ]
  },
  {
   "cell_type": "code",
   "execution_count": 6,
   "id": "ecaf17e6-34ce-4f84-904c-e486a79eeb73",
   "metadata": {},
   "outputs": [
    {
     "name": "stdout",
     "output_type": "stream",
     "text": [
      "Requirement already satisfied: biopython in c:\\python311\\lib\\site-packages (1.81)\n",
      "Requirement already satisfied: numpy in c:\\python311\\lib\\site-packages (from biopython) (1.26.0)\n"
     ]
    }
   ],
   "source": [
    "# install library\n",
    "!pip install biopython"
   ]
  },
  {
   "cell_type": "code",
   "execution_count": 16,
   "id": "f5b8e68d-55a6-44ab-868b-0fd65a296cb7",
   "metadata": {},
   "outputs": [
    {
     "name": "stdout",
     "output_type": "stream",
     "text": [
      "GC Content: 56.41025641025641%\n",
      "RNA Sequence: AUGGCCAUUGUAAUGGGCCGCUGAAAGGGUGCCCGAUAG\n"
     ]
    }
   ],
   "source": [
    "# Example 1: Reading and Analyzing DNA Sequences\n",
    "\n",
    "from Bio.Seq import Seq\n",
    "\n",
    "# Example DNA sequence\n",
    "dna_sequence = Seq(\"ATGGCCATTGTAATGGGCCGCTGAAAGGGTGCCCGATAG\")\n",
    "\n",
    "# Calculate GC content\n",
    "gc_content = 100 * float(dna_sequence.count(\"G\") + dna_sequence.count(\"C\")) / len(dna_sequence)\n",
    "print(f\"GC Content: {gc_content}%\")\n",
    "\n",
    "# Transcribe DNA to RNA\n",
    "rna_sequence = dna_sequence.transcribe()\n",
    "print(f\"RNA Sequence: {rna_sequence}\")\n",
    "\n",
    "# In this code, we create a Seq object with our DNA sequence, calculate the GC content, and then transcribe the DNA into RNA."
   ]
  },
  {
   "cell_type": "code",
   "execution_count": 15,
   "id": "04dbe43e-e055-467b-8f45-f9492f7fc73a",
   "metadata": {},
   "outputs": [
    {
     "name": "stdout",
     "output_type": "stream",
     "text": [
      "target            0 ACCGT 5\n",
      "                  0 ||-|- 5\n",
      "query             0 AC-G- 3\n",
      "\n"
     ]
    }
   ],
   "source": [
    "# Example 2: Sequence Alignment\n",
    "\n",
    "from Bio.Align import PairwiseAligner\n",
    "\n",
    "# Creating a PairwiseAligner object\n",
    "aligner = PairwiseAligner()\n",
    "\n",
    "# Two sequences to be aligned\n",
    "sequence1 = Seq(\"ACCGT\")\n",
    "sequence2 = Seq(\"ACG\")\n",
    "\n",
    "# Perform alignment\n",
    "alignments = aligner.align(sequence1, sequence2)\n",
    "\n",
    "# Print the best alignment\n",
    "best_alignment = alignments[0]\n",
    "print(best_alignment)\n",
    "\n",
    "# Here, we use the pairwise2 module to align two sequences globally. \n",
    "# The globalxx method aligns the sequences without considering scoring for matches, mismatches, and gaps."
   ]
  },
  {
   "cell_type": "code",
   "execution_count": 17,
   "id": "539bf074-e938-4eef-869b-1900f6008d28",
   "metadata": {},
   "outputs": [
    {
     "name": "stdout",
     "output_type": "stream",
     "text": [
      "Sequence ID: U00096.3\n",
      "Sequence Length: 4641652\n",
      "GC Content: 50.79%\n",
      "\n"
     ]
    }
   ],
   "source": [
    "# Example 3: Reading and Analyzing Sequences from a FASTA File\n",
    "\n",
    "from Bio import SeqIO\n",
    "# Path to the FASTA file\n",
    "fasta_file = \"Ecoli_ complete_genome.fna\" \n",
    "\n",
    "# Reading and analyzing each sequence in the file\n",
    "for seq_record in SeqIO.parse(fasta_file, \"fasta\"):\n",
    "    sequence = seq_record.seq\n",
    "    sequence_id = seq_record.id\n",
    "    sequence_length = len(sequence)\n",
    "    gc_content = 100 * float(sequence.count(\"G\") + sequence.count(\"C\")) / sequence_length\n",
    "\n",
    "    print(f\"Sequence ID: {sequence_id}\")\n",
    "    print(f\"Sequence Length: {sequence_length}\")\n",
    "    print(f\"GC Content: {gc_content:.2f}%\\n\")\n",
    "\n",
    "# This example demonstrates how to handle multiple sequences from a standard file format in bioinformatics, providing a foundational skill for many bioinformatics analyses. "
   ]
  },
  {
   "cell_type": "code",
   "execution_count": null,
   "id": "8cbd4650-ea71-4b31-91d4-c5665420b903",
   "metadata": {},
   "outputs": [],
   "source": []
  }
 ],
 "metadata": {
  "kernelspec": {
   "display_name": "Python 3 (ipykernel)",
   "language": "python",
   "name": "python3"
  },
  "language_info": {
   "codemirror_mode": {
    "name": "ipython",
    "version": 3
   },
   "file_extension": ".py",
   "mimetype": "text/x-python",
   "name": "python",
   "nbconvert_exporter": "python",
   "pygments_lexer": "ipython3",
   "version": "3.11.1"
  }
 },
 "nbformat": 4,
 "nbformat_minor": 5
}
