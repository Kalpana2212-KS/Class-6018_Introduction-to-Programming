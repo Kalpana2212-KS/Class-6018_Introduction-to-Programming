{
 "cells": [
  {
   "cell_type": "code",
   "execution_count": 1,
   "id": "149ce4bb-543f-4f67-b8a5-70cb6363cf1d",
   "metadata": {},
   "outputs": [
    {
     "name": "stdout",
     "output_type": "stream",
     "text": [
      "24.034609838166958\n"
     ]
    }
   ],
   "source": [
    "# Question 8. Susan has a weight of 60 kilograms and a height of 1.58 meters. \n",
    "# Write Code to Calculate and Print Susan’s Body Mass Index as float\n",
    "name = 'Susan'\n",
    "weight = 60\n",
    "height = 1.58\n",
    "Susan_BMI = weight / height ** 2\n",
    "print (Susan_BMI)\n",
    "# The ** represents to the power"
   ]
  },
  {
   "cell_type": "code",
   "execution_count": null,
   "id": "e524ea80-b8ea-4383-b23f-83155969207e",
   "metadata": {},
   "outputs": [],
   "source": []
  }
 ],
 "metadata": {
  "kernelspec": {
   "display_name": "Python 3 (ipykernel)",
   "language": "python",
   "name": "python3"
  },
  "language_info": {
   "codemirror_mode": {
    "name": "ipython",
    "version": 3
   },
   "file_extension": ".py",
   "mimetype": "text/x-python",
   "name": "python",
   "nbconvert_exporter": "python",
   "pygments_lexer": "ipython3",
   "version": "3.11.1"
  }
 },
 "nbformat": 4,
 "nbformat_minor": 5
}
