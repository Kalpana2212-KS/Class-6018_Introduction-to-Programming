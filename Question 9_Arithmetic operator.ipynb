{
 "cells": [
  {
   "cell_type": "code",
   "execution_count": 1,
   "id": "898059a8-6aae-476b-8f6f-25ee055d138a",
   "metadata": {},
   "outputs": [
    {
     "name": "stdout",
     "output_type": "stream",
     "text": [
      "12\n",
      "4.8\n"
     ]
    }
   ],
   "source": [
    "# Question 9: Explain how the \"+\", addition operation works differently for integers and strings.\n",
    "x = 5+7\n",
    "y = 1.2+ 3.6\n",
    "print(x)\n",
    "print(y)\n",
    "\n",
    "# Python follows the simple arithmetic operations for integers and gives the sum of 2 numbers, when added."
   ]
  },
  {
   "cell_type": "code",
   "execution_count": 2,
   "id": "87f7d4d7-1285-4215-b73e-647e1f217c56",
   "metadata": {},
   "outputs": [
    {
     "name": "stdout",
     "output_type": "stream",
     "text": [
      "57\n",
      "1.23.6\n"
     ]
    }
   ],
   "source": [
    "# Question 9\n",
    "# When '+' operator is used for strings, it combines string 1 and string 2 and gives the output. \n",
    "x = '5' + '7'\n",
    "y = '1.2' + '3.6'\n",
    "print (x)\n",
    "print (y)"
   ]
  },
  {
   "cell_type": "code",
   "execution_count": null,
   "id": "6faaf996-36ec-41f8-a848-e77d39644c58",
   "metadata": {},
   "outputs": [],
   "source": []
  }
 ],
 "metadata": {
  "kernelspec": {
   "display_name": "Python 3 (ipykernel)",
   "language": "python",
   "name": "python3"
  },
  "language_info": {
   "codemirror_mode": {
    "name": "ipython",
    "version": 3
   },
   "file_extension": ".py",
   "mimetype": "text/x-python",
   "name": "python",
   "nbconvert_exporter": "python",
   "pygments_lexer": "ipython3",
   "version": "3.11.1"
  }
 },
 "nbformat": 4,
 "nbformat_minor": 5
}
