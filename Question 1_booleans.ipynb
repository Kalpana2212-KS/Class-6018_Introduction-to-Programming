{
 "cells": [
  {
   "cell_type": "code",
   "execution_count": 2,
   "id": "7bf3073c-b347-447b-8537-f2442a380631",
   "metadata": {},
   "outputs": [
    {
     "data": {
      "text/plain": [
       "2"
      ]
     },
     "execution_count": 2,
     "metadata": {},
     "output_type": "execute_result"
    }
   ],
   "source": [
    "# Question 1 (booleans)\n",
    "# boolean True + boolean True - boolean False = ?\n",
    "True + True - False \n",
    "# True is equivalent to 1, and False is equivalent to 0. Hence, 1+1-0 equals to 2. The answer is 2. "
   ]
  },
  {
   "cell_type": "code",
   "execution_count": null,
   "id": "a6f49fee-24fa-4db4-9f88-e8dbdaebc569",
   "metadata": {},
   "outputs": [],
   "source": []
  }
 ],
 "metadata": {
  "kernelspec": {
   "display_name": "Python 3 (ipykernel)",
   "language": "python",
   "name": "python3"
  },
  "language_info": {
   "codemirror_mode": {
    "name": "ipython",
    "version": 3
   },
   "file_extension": ".py",
   "mimetype": "text/x-python",
   "name": "python",
   "nbconvert_exporter": "python",
   "pygments_lexer": "ipython3",
   "version": "3.11.1"
  }
 },
 "nbformat": 4,
 "nbformat_minor": 5
}
