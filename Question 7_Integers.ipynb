{
 "cells": [
  {
   "cell_type": "code",
   "execution_count": 1,
   "id": "29246000-bd96-4e03-86fe-c6f17b8c394a",
   "metadata": {},
   "outputs": [
    {
     "name": "stdout",
     "output_type": "stream",
     "text": [
      "<class 'int'>\n"
     ]
    }
   ],
   "source": [
    "# Question 7: Jack has been prescribed 5 medications, write a variable named \"Medication\", and store in it the number of medications he has. \n",
    "# Print the type of the variable ''Medication\".\n",
    "Medication = 5 \n",
    "print (type(Medication))\n",
    "\n",
    "# Because the variable 'medication' stores the number '5', which is an integer. "
   ]
  },
  {
   "cell_type": "code",
   "execution_count": null,
   "id": "99945859-4771-44bb-98ce-bcabbbfb2604",
   "metadata": {},
   "outputs": [],
   "source": []
  }
 ],
 "metadata": {
  "kernelspec": {
   "display_name": "Python 3 (ipykernel)",
   "language": "python",
   "name": "python3"
  },
  "language_info": {
   "codemirror_mode": {
    "name": "ipython",
    "version": 3
   },
   "file_extension": ".py",
   "mimetype": "text/x-python",
   "name": "python",
   "nbconvert_exporter": "python",
   "pygments_lexer": "ipython3",
   "version": "3.11.1"
  }
 },
 "nbformat": 4,
 "nbformat_minor": 5
}
