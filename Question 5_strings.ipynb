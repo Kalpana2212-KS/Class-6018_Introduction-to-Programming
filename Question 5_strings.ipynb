{
 "cells": [
  {
   "cell_type": "code",
   "execution_count": 1,
   "id": "7fb4a57d-1dd8-42ff-9d35-e683a8f3574f",
   "metadata": {},
   "outputs": [
    {
     "data": {
      "text/plain": [
       "' '"
      ]
     },
     "execution_count": 1,
     "metadata": {},
     "output_type": "execute_result"
    }
   ],
   "source": [
    "# Question 5 (strings)\n",
    "# string = \"E. Coli\" . string [2] = ?\n",
    "string = \"E. Coli\"\n",
    "string [2]\n",
    "\n",
    "# Assuming there is space between '.' and 'C', in the string. (in Question 5)\n",
    "# The indexing in python string starts from 0,1,2,3...n. So,there is space (' ') at index 2. "
   ]
  },
  {
   "cell_type": "code",
   "execution_count": null,
   "id": "c01928d2-87b6-4dfc-a59c-105306ef2281",
   "metadata": {},
   "outputs": [],
   "source": []
  }
 ],
 "metadata": {
  "kernelspec": {
   "display_name": "Python 3 (ipykernel)",
   "language": "python",
   "name": "python3"
  },
  "language_info": {
   "codemirror_mode": {
    "name": "ipython",
    "version": 3
   },
   "file_extension": ".py",
   "mimetype": "text/x-python",
   "name": "python",
   "nbconvert_exporter": "python",
   "pygments_lexer": "ipython3",
   "version": "3.11.1"
  }
 },
 "nbformat": 4,
 "nbformat_minor": 5
}
