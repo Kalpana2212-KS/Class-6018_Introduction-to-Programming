{
 "cells": [
  {
   "cell_type": "code",
   "execution_count": 6,
   "id": "5296c3d1-1672-45bd-ba2b-0851820bea02",
   "metadata": {},
   "outputs": [
    {
     "name": "stdout",
     "output_type": "stream",
     "text": [
      "We are making an error in the loop. The correct answer is supposed to be:2\n",
      "We are making an error in the loop. The correct answer is supposed to be:3\n",
      "We are making an error in the loop. The correct answer is supposed to be:4\n",
      "[6, 9, 12]\n"
     ]
    }
   ],
   "source": [
    "# 1.a Using print statement, get the function below to print out where it's making an error. \n",
    "def wrong_add_function(arg1, arg2):\n",
    "    arg1_index=0\n",
    "    while arg1_index < len(arg1):\n",
    "        arg_2_sum = 0\n",
    "        arg_2_sum = sum([arg1[arg1_index]+i for i in arg2])\n",
    "#Structure a print statement, add corresponding element from arg2 to arg1.\n",
    "        print(f\"We are making an error in the loop. The correct answer is supposed to be:{arg1[arg1_index] + arg2[arg1_index]}\")\n",
    "        arg1[arg1_index]=arg_2_sum\n",
    "        arg1_index+=1\n",
    "    return arg1\n",
    "\n",
    "arg1 = [1, 2, 3]\n",
    "arg2 = [1, 1, 1]\n",
    "result = wrong_add_function(arg1, arg2)\n",
    "print(result)"
   ]
  },
  {
   "cell_type": "code",
   "execution_count": 7,
   "id": "69fa9bda-63f2-4c6e-b6d5-6704bee8f81e",
   "metadata": {},
   "outputs": [
    {
     "name": "stdout",
     "output_type": "stream",
     "text": [
      "[2, 3, 4]\n"
     ]
    }
   ],
   "source": [
    "# 1.b output the correct answer\n",
    "def correct_add_function(arg1, arg2):\n",
    "    arg1_index=0\n",
    "    while arg1_index < len(arg1):\n",
    "        arg1[arg1_index] += arg2[arg1_index]  \n",
    "        arg1_index+=1\n",
    "    return arg1\n",
    "\n",
    "arg1 = [1, 2, 3]\n",
    "arg2 = [1, 1, 1]\n",
    "result = correct_add_function(arg1, arg2)\n",
    "print(result) #prints the correct answer [2,3,4]"
   ]
  },
  {
   "cell_type": "code",
   "execution_count": 8,
   "id": "ef1bfcd4-e4a2-45ed-857b-7c9fd3bd0a1a",
   "metadata": {},
   "outputs": [
    {
     "data": {
      "text/plain": [
       "[4, 5, 6]"
      ]
     },
     "execution_count": 8,
     "metadata": {},
     "output_type": "execute_result"
    }
   ],
   "source": [
    "# 2.a Update the numeric section of the function with your changes from 1 for both 2b and 2c.\n",
    "def updated_add_function(arg1,arg2):\n",
    "#numeric section\n",
    "   if sum([type(i)==int for i in arg1])==len(arg1) and \\\n",
    "      sum([type(i)==int for i in arg2])==len(arg2):\n",
    "         arg1_index=0\n",
    "         while arg1_index < len(arg1):\n",
    "            arg_2_sum = 0\n",
    "            for arg2_elements in arg2:\n",
    "               arg_2_sum += arg2_elements\n",
    "#Add the sum of arg2 to the current elements of arg1\n",
    "            arg1[arg1_index]=arg1[arg1_index]+int(arg_2_sum) \n",
    "            arg1_index+=1\n",
    "         return arg1\n",
    "arg1=[1,2,3]\n",
    "arg2=[1,1,1]\n",
    "\n",
    "updated_add_function(arg1,arg2)"
   ]
  },
  {
   "cell_type": "code",
   "execution_count": 9,
   "id": "34915c0c-aa7f-451f-9737-529ce4df30ef",
   "metadata": {},
   "outputs": [
    {
     "name": "stdout",
     "output_type": "stream",
     "text": [
      "Error: Elements in arg1 and arg2 must be strings.\n",
      "Your input arguments are not of the expected type. Please change this and rerun.\n",
      "Final result after addition: None\n"
     ]
    }
   ],
   "source": [
    "#2.b Using print statements and try-except blocks to catch the errors\n",
    "def wrong_add_function(arg1, arg2):\n",
    "    try:\n",
    "        if all(isinstance(i, str) for i in arg1) and all(isinstance(i, str) for i in arg2):\n",
    "#Print the statement\n",
    "            print('Both arg1 and arg2 are lists of strings. Proceeding with addition.')\n",
    "            arg1_index = 0\n",
    "            while arg1_index < len(arg1):\n",
    "                arg_2_sum = ''\n",
    "                for arg2_elements in arg2:\n",
    "                    arg_2_sum += arg2_elements\n",
    "                arg1[arg1_index] = arg1[arg1_index] + str(arg_2_sum)\n",
    "#Concatenate all the elements in arg2 to each element in arg1\n",
    "                print(f\"Element at index {arg1_index} in arg1 after addition: {arg1[arg1_index]}\")\n",
    "                arg1_index += 1\n",
    "            print('Successfully completed the addition.')\n",
    "            return arg1\n",
    "# Raise TypeError if integers are added instead of 'strings'\n",
    "        else:\n",
    "            raise TypeError('Elements in arg1 and arg2 must be strings.')\n",
    "    except TypeError as e:\n",
    "        print(f\"Error: {e}\")\n",
    "        print('Your input arguments are not of the expected type. Please change this and rerun.')\n",
    "\n",
    "# Trying with an example. #Error: At index 2 in arg1, there is an integer\n",
    "arg1 = ['1', '2', 3]\n",
    "arg2 = ['1', '1', '1']\n",
    "\n",
    "try:\n",
    "    result = wrong_add_function(arg1, arg2)\n",
    "    print('Final result after addition:', result)\n",
    "except TypeError:\n",
    "    print('Error occurred during addition. Please check the input arguments.')"
   ]
  },
  {
   "cell_type": "code",
   "execution_count": 10,
   "id": "1debdc1a-9bd7-4d70-8c30-27e9cf322e96",
   "metadata": {},
   "outputs": [
    {
     "name": "stdout",
     "output_type": "stream",
     "text": [
      "Both arg1 and arg2 are lists of strings. Proceeding with addition.\n",
      "Element at index 0 in arg1 after addition: 1111\n",
      "Element at index 1 in arg1 after addition: 2111\n",
      "Element at index 2 in arg1 after addition: 3111\n",
      "Successfully completed the addition.\n",
      "Final result after addition: ['1111', '2111', '3111']\n"
     ]
    }
   ],
   "source": [
    "#2.c Defining correct_add_function\n",
    "def correct_add_function(arg1, arg2):\n",
    "    try:\n",
    "        if all(isinstance(i, str) for i in arg1) and all(isinstance(i, str) for i in arg2):\n",
    "#Print the statement\n",
    "            print('Both arg1 and arg2 are lists of strings. Proceeding with addition.')\n",
    "            arg1_index = 0\n",
    "            while arg1_index < len(arg1):\n",
    "                arg_2_sum = ''\n",
    "                for arg2_elements in arg2:\n",
    "                    arg_2_sum += arg2_elements\n",
    "                arg1[arg1_index] = arg1[arg1_index] + str(arg_2_sum)\n",
    "#Concatenate all the elements in arg2 to each element in arg1\n",
    "                print(f\"Element at index {arg1_index} in arg1 after addition: {arg1[arg1_index]}\")\n",
    "                arg1_index += 1\n",
    "            print('Successfully completed the addition.')\n",
    "            return arg1\n",
    "# Raise TypeError if integers are added instead of strings\n",
    "        else:\n",
    "            raise TypeError('Elements in arg1 and arg2 must be strings.')\n",
    "    except TypeError as e:\n",
    "        print(f\"Error: {e}\")\n",
    "        print('Your input arguments are not of the expected type. Please change this and rerun.')\n",
    "\n",
    "# Trying with an example. Define arg1 and arg2 with 'strings' only\n",
    "arg1 = ['1', '2', '3']\n",
    "arg2 = ['1', '1', '1']\n",
    "\n",
    "try:\n",
    "    result = correct_add_function(arg1, arg2)\n",
    "    print('Final result after addition:', result)\n",
    "except TypeError:\n",
    "    print('Error occurred during addition. Please check the input arguments.')"
   ]
  },
  {
   "cell_type": "code",
   "execution_count": null,
   "id": "9d275ec8-d8f8-49df-b72a-6595a9127440",
   "metadata": {},
   "outputs": [],
   "source": []
  }
 ],
 "metadata": {
  "kernelspec": {
   "display_name": "Python 3 (ipykernel)",
   "language": "python",
   "name": "python3"
  },
  "language_info": {
   "codemirror_mode": {
    "name": "ipython",
    "version": 3
   },
   "file_extension": ".py",
   "mimetype": "text/x-python",
   "name": "python",
   "nbconvert_exporter": "python",
   "pygments_lexer": "ipython3",
   "version": "3.11.1"
  }
 },
 "nbformat": 4,
 "nbformat_minor": 5
}
