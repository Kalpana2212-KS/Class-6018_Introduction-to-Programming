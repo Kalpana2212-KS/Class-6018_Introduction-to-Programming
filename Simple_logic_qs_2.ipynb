{
 "cells": [
  {
   "cell_type": "code",
   "execution_count": 43,
   "id": "0b26f1a5-9714-4855-b699-6ee224616d99",
   "metadata": {},
   "outputs": [],
   "source": [
    "# Problem 2 Loops within loops\n",
    "# Given the array influenza_genome, write code using both for and while loops that:\n",
    "\n",
    "# 2.1 Create a for loop that iterates over items index 234 through 237 and prints each value (ie there should be 4 items)\n",
    "\n",
    "# 2.2 Create a while loop that iterates over items index 234 through 237 and prints each value (ie there should be 4 items)\n",
    "\n",
    "# 2.3 Create a for loop that iterates over items index 234 through 237 and if the index is 236 print the item 7 times.\n"
   ]
  },
  {
   "cell_type": "code",
   "execution_count": 44,
   "id": "af1e824e-08d1-4c8d-ba5c-33cd59d5c0ee",
   "metadata": {},
   "outputs": [
    {
     "name": "stdout",
     "output_type": "stream",
     "text": [
      "4\n",
      "7\n",
      "12\n",
      "24\n"
     ]
    }
   ],
   "source": [
    "# 2.1 Create a for loop that iterates over items index 234 through 237 and prints each value (ie there should be 4 items)\n",
    "for i in range(234,238):\n",
    "    print(influenza_genome[i])"
   ]
  },
  {
   "cell_type": "code",
   "execution_count": 45,
   "id": "32360d86-1e0f-4075-b0db-613464aaa384",
   "metadata": {},
   "outputs": [
    {
     "name": "stdout",
     "output_type": "stream",
     "text": [
      "4\n",
      "7\n",
      "12\n",
      "24\n"
     ]
    }
   ],
   "source": [
    "# 2.2 Create a while loop that iterates over items index 234 through 237 and prints each value (ie there should be 4 items)\n",
    "index = 234\n",
    "while index <=237:\n",
    "    print(influenza_genome[index])\n",
    "    index += 1"
   ]
  },
  {
   "cell_type": "code",
   "execution_count": 46,
   "id": "e2e4a782-3517-44f3-95ec-dd8a603810b3",
   "metadata": {},
   "outputs": [
    {
     "name": "stdout",
     "output_type": "stream",
     "text": [
      "4\n",
      "7\n",
      "12\n",
      "12\n",
      "12\n",
      "12\n",
      "12\n",
      "12\n",
      "12\n",
      "24\n"
     ]
    }
   ],
   "source": [
    "# 2.3 Create a for loop that iterates over items index 234 through 237 and if the index is 236 print the item 7 times.\n",
    "for index, item in enumerate(influenza_genome[234:238]):\n",
    "    if index == 2:\n",
    "        num = 7\n",
    "        for _ in range(num):\n",
    "            print(item)\n",
    "    else:\n",
    "        print(item)"
   ]
  },
  {
   "cell_type": "code",
   "execution_count": null,
   "id": "ccc6ac22-cc3b-4718-b3de-3aca45470dc6",
   "metadata": {},
   "outputs": [],
   "source": []
  }
 ],
 "metadata": {
  "kernelspec": {
   "display_name": "Python 3 (ipykernel)",
   "language": "python",
   "name": "python3"
  },
  "language_info": {
   "codemirror_mode": {
    "name": "ipython",
    "version": 3
   },
   "file_extension": ".py",
   "mimetype": "text/x-python",
   "name": "python",
   "nbconvert_exporter": "python",
   "pygments_lexer": "ipython3",
   "version": "3.11.1"
  }
 },
 "nbformat": 4,
 "nbformat_minor": 5
}
